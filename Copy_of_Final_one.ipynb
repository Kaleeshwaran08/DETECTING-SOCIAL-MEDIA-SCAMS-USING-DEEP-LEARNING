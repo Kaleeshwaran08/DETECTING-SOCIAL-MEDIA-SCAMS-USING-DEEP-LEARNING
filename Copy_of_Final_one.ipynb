{
  "nbformat": 4,
  "nbformat_minor": 0,
  "metadata": {
    "colab": {
      "provenance": []
    },
    "kernelspec": {
      "name": "python3",
      "display_name": "Python 3"
    },
    "language_info": {
      "name": "python"
    }
  },
  "cells": [
    {
      "cell_type": "code",
      "execution_count": null,
      "metadata": {
        "id": "yYPnT_sdke5d"
      },
      "outputs": [],
      "source": [
        "import numpy as np\n",
        "import pandas as pd\n",
        "import re\n",
        "from sklearn.model_selection import train_test_split\n",
        "from sklearn.metrics import accuracy_score, precision_score, recall_score, f1_score\n",
        "from tensorflow.keras.models import Sequential\n",
        "from tensorflow.keras.layers import Embedding, LSTM, Dense, Dropout\n",
        "from tensorflow.keras.preprocessing.text import Tokenizer\n",
        "from tensorflow.keras.preprocessing.sequence import pad_sequences\n",
        "import matplotlib.pyplot as plt\n",
        "import seaborn as sns\n",
        "from sklearn.metrics import confusion_matrix"
      ]
    },
    {
      "cell_type": "code",
      "source": [
        "# Function for data preprocessing\n",
        "def preprocess_text(text):\n",
        "    # Convert to lowercase\n",
        "    text = text.lower()\n",
        "    # Remove URLs\n",
        "    text = re.sub(r'http\\S+|www\\S+|https\\S+', '', text, flags=re.MULTILINE)\n",
        "    # Remove user mentions and hashtags\n",
        "    text = re.sub(r'@[^\\s]+|#', '', text)\n",
        "    # Remove special characters and numbers\n",
        "    text = re.sub(r'\\W+', ' ', text)\n",
        "    return text.strip()"
      ],
      "metadata": {
        "id": "_HyXM7NxlZPh"
      },
      "execution_count": null,
      "outputs": []
    },
    {
      "cell_type": "code",
      "source": [
        "# Load feature matrices and labels from .dat files\n",
        "training_features = np.fromfile('/content/training_features_matrix.dat', dtype=np.float32)\n",
        "training_labels = np.fromfile('/content/training_labels.dat', dtype=np.int32)\n",
        "testing_features = np.fromfile('/content/testing_features_matrix.dat', dtype=np.float32)\n",
        "testing_labels = np.fromfile('/content/testing_labels.dat', dtype=np.int32)\n"
      ],
      "metadata": {
        "id": "_QRNZLHGljMr"
      },
      "execution_count": null,
      "outputs": []
    },
    {
      "cell_type": "code",
      "source": [
        "# Load text data from training_data folder\n",
        "train_legitimate_users_following = pd.read_csv('/content/legitimate_users_followings.txt', header=None, names=['following'], sep=',')\n"
      ],
      "metadata": {
        "id": "_xn8hBItlmXO"
      },
      "execution_count": null,
      "outputs": []
    },
    {
      "cell_type": "code",
      "source": [
        "import pandas as pd\n",
        "\n",
        "# Read legitimate users' tweets with tab separator and specify the encoding\n",
        "train_legitimate_users_tweets = pd.read_csv('/content/legitimate_users_tweets.txt', sep='\\t', encoding='latin-1', header=None, names=['user_id', 'tweets', 'timestamp'], error_bad_lines=False)\n",
        "\n",
        "\n",
        "# Read legitimate users with default separator (comma)\n",
        "train_legitimate_users = pd.read_csv('/content/legitimate_users.txt', encoding='latin-1', header=None, names=['user_id'])\n",
        "\n",
        "# Read spammers' following with comma separator and specify the encoding\n",
        "train_spammers_following = pd.read_csv('/content/spammers_following.txt', sep=',', encoding='latin-1', header=None, names=['following'])\n"
      ],
      "metadata": {
        "id": "e3NsomSnlo3i",
        "colab": {
          "base_uri": "https://localhost:8080/"
        },
        "outputId": "25741f8d-b21b-48da-8e1b-fb94d7e1b8a5"
      },
      "execution_count": null,
      "outputs": [
        {
          "output_type": "stream",
          "name": "stderr",
          "text": [
            "<ipython-input-64-d87cbe378f44>:4: FutureWarning: The error_bad_lines argument has been deprecated and will be removed in a future version. Use on_bad_lines in the future.\n",
            "\n",
            "\n",
            "  train_legitimate_users_tweets = pd.read_csv('/content/legitimate_users_tweets.txt', sep='\\t', encoding='latin-1', header=None, names=['user_id', 'tweets', 'timestamp'], error_bad_lines=False)\n",
            "Skipping line 36543: expected 4 fields, saw 5\n",
            "\n"
          ]
        }
      ]
    },
    {
      "cell_type": "code",
      "source": [
        "#train_spammers_tweets = pd.read_csv('/Users/macvision/tauseef/twitter_scam_detection/archive/Training_data/spammers_tweets.txt', header=None, names=['tweets'], sep=',')\n",
        "train_spammers_tweets = pd.read_csv('/content/spammers_tweets.txt', sep='\\t', encoding='utf-8', header=None, names=['user_id', 'tweets', 'timestamp'], error_bad_lines=False)\n",
        "\n",
        "train_spammers = pd.read_csv('/content/spammers.txt', header=None, names=['user_id'])\n"
      ],
      "metadata": {
        "id": "sk-_ZU99lrzD",
        "colab": {
          "base_uri": "https://localhost:8080/"
        },
        "outputId": "245a9eeb-2d34-4af9-b714-c9d742a838d0"
      },
      "execution_count": null,
      "outputs": [
        {
          "output_type": "stream",
          "name": "stderr",
          "text": [
            "<ipython-input-37-90e53f4273a0>:2: FutureWarning: The error_bad_lines argument has been deprecated and will be removed in a future version. Use on_bad_lines in the future.\n",
            "\n",
            "\n",
            "  train_spammers_tweets = pd.read_csv('/content/spammers_tweets.txt', sep='\\t', encoding='utf-8', header=None, names=['user_id', 'tweets', 'timestamp'], error_bad_lines=False)\n",
            "Skipping line 18909: expected 4 fields, saw 5\n",
            "\n"
          ]
        }
      ]
    },
    {
      "cell_type": "code",
      "source": [
        "import pandas as pd\n",
        "\n",
        "# Read legitimate users' tweets with tab separator and specify the encoding\n",
        "train_legitimate_users_tweets = pd.read_csv('/content/legitimate_users_tweets.txt', sep='\\t', encoding='latin-1', header=None, names=['user_id', 'tweets', 'timestamp'], error_bad_lines=False)\n",
        "\n",
        "# Read legitimate users with default separator (comma)\n",
        "train_legitimate_users = pd.read_csv('/content/legitimate_users.txt', encoding='utf-8', header=None, names=['user_id'])\n",
        "\n",
        "# Read spammers' following with comma separator and specify the encoding\n",
        "train_spammers_following = pd.read_csv('/content/spammers_following.txt', sep=',', encoding='utf-8', header=None, names=['following'])\n"
      ],
      "metadata": {
        "id": "j5f5BXMVlyWu",
        "colab": {
          "base_uri": "https://localhost:8080/"
        },
        "outputId": "8bc5eb0c-66cd-48e5-b62c-93dbc7567e05"
      },
      "execution_count": null,
      "outputs": [
        {
          "output_type": "stream",
          "name": "stderr",
          "text": [
            "<ipython-input-38-5d5e9f92937e>:4: FutureWarning: The error_bad_lines argument has been deprecated and will be removed in a future version. Use on_bad_lines in the future.\n",
            "\n",
            "\n",
            "  train_legitimate_users_tweets = pd.read_csv('/content/legitimate_users_tweets.txt', sep='\\t', encoding='latin-1', header=None, names=['user_id', 'tweets', 'timestamp'], error_bad_lines=False)\n",
            "Skipping line 24252: expected 4 fields, saw 5\n",
            "Skipping line 32060: expected 4 fields, saw 5\n",
            "\n"
          ]
        }
      ]
    },
    {
      "cell_type": "code",
      "source": [
        "from keras.preprocessing.text import Tokenizer\n",
        "import json\n",
        "\n",
        "# Specify the path to your tokenizer JSON file\n",
        "tokenizer_json_path = '/content/tokenizer.json'\n",
        "\n",
        "# Load the saved tokenizer dictionary from JSON\n",
        "with open(tokenizer_json_path, 'r', encoding='utf-8') as f:\n",
        "    tokenizer_dict = json.load(f)\n",
        "\n",
        "# Create a new tokenizer and set its internal state from the loaded dictionary\n",
        "tokenizer = Tokenizer()\n",
        "tokenizer.__dict__.update(tokenizer_dict)\n"
      ],
      "metadata": {
        "id": "jApxKWNstOcx"
      },
      "execution_count": null,
      "outputs": []
    },
    {
      "cell_type": "code",
      "source": [
        "# Combine legitimate and spammer text data for training and testing\n",
        "\n",
        "test_legitimate_users_tweets = pd.read_csv('/content/legitimate_users_tweets.txt', sep='\\t', encoding='latin-1', header=None, names=['user_id', 'tweets', 'timestamp'], error_bad_lines=False)\n",
        "test_spammers_tweets = pd.read_csv('/content/spammers_tweets.txt', sep='\\t', encoding='utf-8', header=None, names=['user_id', 'tweets', 'timestamp'], error_bad_lines=False)\n",
        "\n",
        "\n",
        "train_data = pd.concat([train_legitimate_users_tweets, train_spammers_tweets], axis=0)\n",
        "test_data = pd.concat([test_legitimate_users_tweets, test_spammers_tweets], axis=0)"
      ],
      "metadata": {
        "colab": {
          "base_uri": "https://localhost:8080/"
        },
        "id": "BoYFCCqzl2u8",
        "outputId": "38657b2d-f83e-49aa-e5a8-d65df107264d"
      },
      "execution_count": null,
      "outputs": [
        {
          "output_type": "stream",
          "name": "stderr",
          "text": [
            "<ipython-input-40-65ab5127db0e>:3: FutureWarning: The error_bad_lines argument has been deprecated and will be removed in a future version. Use on_bad_lines in the future.\n",
            "\n",
            "\n",
            "  test_legitimate_users_tweets = pd.read_csv('/content/legitimate_users_tweets.txt', sep='\\t', encoding='latin-1', header=None, names=['user_id', 'tweets', 'timestamp'], error_bad_lines=False)\n",
            "Skipping line 24252: expected 4 fields, saw 5\n",
            "Skipping line 32060: expected 4 fields, saw 5\n",
            "\n",
            "<ipython-input-40-65ab5127db0e>:4: FutureWarning: The error_bad_lines argument has been deprecated and will be removed in a future version. Use on_bad_lines in the future.\n",
            "\n",
            "\n",
            "  test_spammers_tweets = pd.read_csv('/content/spammers_tweets.txt', sep='\\t', encoding='utf-8', header=None, names=['user_id', 'tweets', 'timestamp'], error_bad_lines=False)\n",
            "Skipping line 18909: expected 4 fields, saw 5\n",
            "\n"
          ]
        }
      ]
    },
    {
      "cell_type": "code",
      "source": [
        "# Create labels for the combined data (0 for legitimate, 1 for spammer)\n",
        "train_labels = pd.Series(np.concatenate([np.zeros(len(train_legitimate_users_tweets)), np.ones(len(train_spammers_tweets))]))\n",
        "test_labels = pd.Series(np.concatenate([np.zeros(len(test_legitimate_users_tweets)), np.ones(len(test_spammers_tweets))]))\n"
      ],
      "metadata": {
        "id": "Url3TvbMl7nk"
      },
      "execution_count": null,
      "outputs": []
    },
    {
      "cell_type": "code",
      "source": [
        "import pandas as pd\n",
        "import numpy as np  # Import numpy for NaN handling\n",
        "\n",
        "# Assuming you have already loaded train_data and test_data DataFrames\n",
        "# Define the preprocess_text function (you should define this function)\n",
        "def preprocess_text(text):\n",
        "    if isinstance(text, str):  # Check if text is a string\n",
        "        # Convert to lowercase\n",
        "        text = text.lower()\n",
        "        # Remove URLs\n",
        "        text = re.sub(r'http\\S+|www\\S+|https\\S+', '', text, flags=re.MULTILINE)\n",
        "        # Add more preprocessing steps as needed\n",
        "    return text\n",
        "\n",
        "# Replace NaN values in 'tweets' column with an empty string\n",
        "train_data['tweets'] = train_data['tweets'].fillna('')\n",
        "test_data['tweets'] = test_data['tweets'].fillna('')\n",
        "\n",
        "# Apply the preprocess_text function to the 'tweets' column\n",
        "train_data['tweets'] = train_data['tweets'].apply(preprocess_text)\n",
        "test_data['tweets'] = test_data['tweets'].apply(preprocess_text)\n"
      ],
      "metadata": {
        "id": "k4hyidrwmBhJ"
      },
      "execution_count": null,
      "outputs": []
    },
    {
      "cell_type": "code",
      "source": [
        "# Tokenize and pad the text data for the combined training and testing sets\n",
        "tokenizer = Tokenizer(num_words=5000, oov_token='<OOV>')\n",
        "tokenizer.fit_on_texts(train_data['tweets'])\n",
        "train_sequences = tokenizer.texts_to_sequences(train_data['tweets'])\n",
        "test_sequences = tokenizer.texts_to_sequences(test_data['tweets'])\n",
        "\n",
        "padded_train_sequences = pad_sequences(train_sequences, maxlen=100)\n",
        "padded_test_sequences = pad_sequences(test_sequences, maxlen=100)\n"
      ],
      "metadata": {
        "id": "EJkf2LojmFrb"
      },
      "execution_count": null,
      "outputs": []
    },
    {
      "cell_type": "code",
      "source": [
        "# Get input from the user\n",
        "user_input = input(\"Enter a text: \")\n",
        "preprocessed_input = preprocess_text(user_input)\n",
        "\n"
      ],
      "metadata": {
        "id": "_i08l1_Ktgyp",
        "colab": {
          "base_uri": "https://localhost:8080/"
        },
        "outputId": "4d480838-0d66-4924-edf9-f11d3f9db72c"
      },
      "execution_count": null,
      "outputs": [
        {
          "name": "stdout",
          "output_type": "stream",
          "text": [
            "Enter a text: hello\n"
          ]
        }
      ]
    },
    {
      "cell_type": "code",
      "source": [
        "# Tokenize and pad the input text\n",
        "input_sequence = tokenizer.texts_to_sequences([preprocessed_input])\n",
        "padded_input_sequence = pad_sequences(input_sequence, maxlen=100)"
      ],
      "metadata": {
        "id": "JtJxPTNwtk9U"
      },
      "execution_count": null,
      "outputs": []
    },
    {
      "cell_type": "code",
      "source": [
        "# Load the trained model\n",
        "from tensorflow.keras.models import load_model  # Import load_model function\n",
        "\n",
        "# Load the trained model\n",
        "\n",
        "\n",
        "model = load_model('/content/scam_detection_model.h5')\n"
      ],
      "metadata": {
        "id": "TusEgP2Dtf8C"
      },
      "execution_count": null,
      "outputs": []
    },
    {
      "cell_type": "code",
      "source": [
        "# Build the deep learning model\n",
        "model = Sequential()\n",
        "model.add(Embedding(5000, 64, input_length=100))\n",
        "model.add(LSTM(64))\n",
        "model.add(Dense(1, activation='sigmoid'))\n",
        "\n"
      ],
      "metadata": {
        "id": "M3HeTKVlmGDJ"
      },
      "execution_count": null,
      "outputs": []
    },
    {
      "cell_type": "code",
      "source": [
        "# Make a prediction\n",
        "prediction_prob = model.predict(padded_input_sequence)\n",
        "prediction = \"Scam\" if prediction_prob >= 0.5 else \"Not a Scam\"\n",
        "confidence = prediction_prob[0][0] * 100"
      ],
      "metadata": {
        "id": "dwvzwXSXtnKB",
        "colab": {
          "base_uri": "https://localhost:8080/"
        },
        "outputId": "a231eac4-4951-4dce-c21f-b2977a12b1dc"
      },
      "execution_count": null,
      "outputs": [
        {
          "output_type": "stream",
          "name": "stdout",
          "text": [
            "1/1 [==============================] - 0s 467ms/step\n"
          ]
        }
      ]
    },
    {
      "cell_type": "code",
      "source": [
        "\n",
        "# Display the prediction and confidence\n",
        "print(f\"Prediction: {prediction}\")\n",
        "print(f\"Confidence: {confidence:.2f}%\")\n"
      ],
      "metadata": {
        "id": "wYS70Iy4tpkR",
        "colab": {
          "base_uri": "https://localhost:8080/"
        },
        "outputId": "c6c643d3-b851-4f6d-833d-c003e700e0bb"
      },
      "execution_count": null,
      "outputs": [
        {
          "output_type": "stream",
          "name": "stdout",
          "text": [
            "Prediction: Not a Scam\n",
            "Confidence: 49.67%\n"
          ]
        }
      ]
    },
    {
      "cell_type": "code",
      "source": [
        "# Compile the model\n",
        "model.compile(loss='binary_crossentropy', optimizer='adam', metrics=['accuracy'])\n",
        "\n",
        "model.fit(padded_train_sequences, train_labels, epochs=40, batch_size=64)"
      ],
      "metadata": {
        "id": "wmnqwoA1mNTk",
        "colab": {
          "base_uri": "https://localhost:8080/"
        },
        "outputId": "4f2e8b68-f208-426f-94a4-4579d6036383"
      },
      "execution_count": null,
      "outputs": [
        {
          "output_type": "stream",
          "name": "stdout",
          "text": [
            "Epoch 1/40\n",
            "2540/2540 [==============================] - 235s 90ms/step - loss: 0.4628 - accuracy: 0.7647\n",
            "Epoch 2/40\n",
            "2540/2540 [==============================] - 225s 89ms/step - loss: 0.4063 - accuracy: 0.7983\n",
            "Epoch 3/40\n",
            "2540/2540 [==============================] - 221s 87ms/step - loss: 0.3821 - accuracy: 0.8122\n",
            "Epoch 4/40\n",
            "2540/2540 [==============================] - 213s 84ms/step - loss: 0.3614 - accuracy: 0.8250\n",
            "Epoch 5/40\n",
            "2540/2540 [==============================] - 212s 83ms/step - loss: 0.3412 - accuracy: 0.8366\n",
            "Epoch 6/40\n",
            "2540/2540 [==============================] - 215s 85ms/step - loss: 0.3208 - accuracy: 0.8482\n",
            "Epoch 7/40\n",
            "2540/2540 [==============================] - 213s 84ms/step - loss: 0.2991 - accuracy: 0.8605\n",
            "Epoch 8/40\n",
            "2540/2540 [==============================] - 212s 83ms/step - loss: 0.2772 - accuracy: 0.8721\n",
            "Epoch 9/40\n",
            "2540/2540 [==============================] - 213s 84ms/step - loss: 0.2557 - accuracy: 0.8831\n",
            "Epoch 10/40\n",
            "2540/2540 [==============================] - 213s 84ms/step - loss: 0.2346 - accuracy: 0.8946\n",
            "Epoch 11/40\n",
            "2540/2540 [==============================] - 212s 84ms/step - loss: 0.2146 - accuracy: 0.9055\n",
            "Epoch 12/40\n",
            "2540/2540 [==============================] - 213s 84ms/step - loss: 0.1963 - accuracy: 0.9155\n",
            "Epoch 13/40\n",
            "2540/2540 [==============================] - 213s 84ms/step - loss: 0.1793 - accuracy: 0.9241\n",
            "Epoch 14/40\n",
            "2540/2540 [==============================] - 214s 84ms/step - loss: 0.1623 - accuracy: 0.9329\n",
            "Epoch 15/40\n",
            "2540/2540 [==============================] - 215s 84ms/step - loss: 0.1482 - accuracy: 0.9392\n",
            "Epoch 16/40\n",
            "2540/2540 [==============================] - 221s 87ms/step - loss: 0.1353 - accuracy: 0.9456\n",
            "Epoch 17/40\n",
            "2540/2540 [==============================] - 222s 87ms/step - loss: 0.1254 - accuracy: 0.9508\n",
            "Epoch 18/40\n",
            "2540/2540 [==============================] - 222s 87ms/step - loss: 0.1137 - accuracy: 0.9557\n",
            "Epoch 19/40\n",
            "2540/2540 [==============================] - 222s 87ms/step - loss: 0.1058 - accuracy: 0.9593\n",
            "Epoch 20/40\n",
            "2540/2540 [==============================] - 221s 87ms/step - loss: 0.0983 - accuracy: 0.9627\n",
            "Epoch 21/40\n",
            "2540/2540 [==============================] - 222s 87ms/step - loss: 0.0915 - accuracy: 0.9659\n",
            "Epoch 22/40\n",
            "2540/2540 [==============================] - 221s 87ms/step - loss: 0.0872 - accuracy: 0.9679\n",
            "Epoch 23/40\n",
            "2540/2540 [==============================] - 221s 87ms/step - loss: 0.0818 - accuracy: 0.9700\n",
            "Epoch 24/40\n",
            "2540/2540 [==============================] - 221s 87ms/step - loss: 0.0776 - accuracy: 0.9720\n",
            "Epoch 25/40\n",
            "2540/2540 [==============================] - 228s 90ms/step - loss: 0.0748 - accuracy: 0.9730\n",
            "Epoch 26/40\n",
            "2540/2540 [==============================] - 230s 91ms/step - loss: 0.0705 - accuracy: 0.9749\n",
            "Epoch 27/40\n",
            "2540/2540 [==============================] - 232s 91ms/step - loss: 0.0687 - accuracy: 0.9757\n",
            "Epoch 28/40\n",
            "2540/2540 [==============================] - 230s 91ms/step - loss: 0.0652 - accuracy: 0.9775\n",
            "Epoch 29/40\n",
            "2540/2540 [==============================] - 231s 91ms/step - loss: 0.0627 - accuracy: 0.9781\n",
            "Epoch 30/40\n",
            "2540/2540 [==============================] - 230s 90ms/step - loss: 0.0620 - accuracy: 0.9784\n",
            "Epoch 31/40\n",
            "2540/2540 [==============================] - 230s 91ms/step - loss: 0.0602 - accuracy: 0.9793\n",
            "Epoch 32/40\n",
            "2540/2540 [==============================] - 228s 90ms/step - loss: 0.0576 - accuracy: 0.9803\n",
            "Epoch 33/40\n",
            "2540/2540 [==============================] - 228s 90ms/step - loss: 0.0555 - accuracy: 0.9813\n",
            "Epoch 34/40\n",
            "2540/2540 [==============================] - 222s 87ms/step - loss: 0.0560 - accuracy: 0.9813\n",
            "Epoch 35/40\n",
            "2540/2540 [==============================] - 221s 87ms/step - loss: 0.0526 - accuracy: 0.9823\n",
            "Epoch 36/40\n",
            "2540/2540 [==============================] - 221s 87ms/step - loss: 0.0529 - accuracy: 0.9823\n",
            "Epoch 37/40\n",
            "2540/2540 [==============================] - 220s 87ms/step - loss: 0.0523 - accuracy: 0.9829\n",
            "Epoch 38/40\n",
            "2540/2540 [==============================] - 218s 86ms/step - loss: 0.0501 - accuracy: 0.9833\n",
            "Epoch 39/40\n",
            "2540/2540 [==============================] - 218s 86ms/step - loss: 0.0489 - accuracy: 0.9835\n",
            "Epoch 40/40\n",
            "2540/2540 [==============================] - 218s 86ms/step - loss: 0.0484 - accuracy: 0.9841\n"
          ]
        },
        {
          "output_type": "execute_result",
          "data": {
            "text/plain": [
              "<keras.src.callbacks.History at 0x7bd4e01855d0>"
            ]
          },
          "metadata": {},
          "execution_count": 59
        }
      ]
    },
    {
      "cell_type": "code",
      "source": [
        "# Evaluate the model\n",
        "y_pred_prob = model.predict(padded_test_sequences)  # Get the probability scores\n",
        "y_pred = (y_pred_prob >= 0.5).astype(int)  # Convert probability scores to binary predictions (0 or 1)\n"
      ],
      "metadata": {
        "id": "2nwrF7aYmOVh",
        "colab": {
          "base_uri": "https://localhost:8080/"
        },
        "outputId": "afe0bdb3-3adb-45b3-b552-972f34f0e40a"
      },
      "execution_count": null,
      "outputs": [
        {
          "output_type": "stream",
          "name": "stdout",
          "text": [
            "5079/5079 [==============================] - 92s 18ms/step\n"
          ]
        }
      ]
    },
    {
      "cell_type": "code",
      "source": [
        "# Calculate evaluation metrics\n",
        "accuracy = accuracy_score(test_labels, y_pred)\n",
        "precision = precision_score(test_labels, y_pred)\n",
        "recall = recall_score(test_labels, y_pred)\n",
        "f1 = f1_score(test_labels, y_pred)\n"
      ],
      "metadata": {
        "id": "Gm4Nwz6AmQut"
      },
      "execution_count": null,
      "outputs": []
    },
    {
      "cell_type": "code",
      "source": [
        "# Print evaluation metrics\n",
        "print(f\"Accuracy: {accuracy:.2f}\")\n",
        "print(f\"Precision: {precision:.2f}\")\n",
        "print(f\"Recall: {recall:.2f}\")\n",
        "print(f\"F1 Score: {f1:.2f}\")\n",
        "\n"
      ],
      "metadata": {
        "id": "HWmpYzjnmX3z",
        "colab": {
          "base_uri": "https://localhost:8080/"
        },
        "outputId": "a4a0b133-7c71-4009-e897-1fc4a6ef8f17"
      },
      "execution_count": null,
      "outputs": [
        {
          "output_type": "stream",
          "name": "stdout",
          "text": [
            "Accuracy: 0.99\n",
            "Precision: 0.99\n",
            "Recall: 0.98\n",
            "F1 Score: 0.99\n"
          ]
        }
      ]
    },
    {
      "cell_type": "code",
      "source": [
        "# Confusion matrix visualization\n",
        "\n",
        "cm = confusion_matrix(test_labels, y_pred)\n",
        "plt.figure(figsize=(6, 6))\n",
        "sns.heatmap(cm, annot=True, fmt=\"d\", cmap=\"Blues\", cbar=False, annot_kws={\"size\": 12})\n",
        "plt.xlabel(\"Predicted Label\")\n",
        "plt.ylabel(\"True Label\")\n",
        "plt.title(\"Confusion Matrix\")\n",
        "plt.show()"
      ],
      "metadata": {
        "id": "rGGqwI_zmaOX",
        "colab": {
          "base_uri": "https://localhost:8080/",
          "height": 564
        },
        "outputId": "cbdcad12-db5c-4539-e936-318a230af0f4"
      },
      "execution_count": null,
      "outputs": [
        {
          "output_type": "display_data",
          "data": {
            "text/plain": [
              "<Figure size 600x600 with 1 Axes>"
            ],
            "image/png": "[encoded data removed]"
          },
          "metadata": {}
        }
      ]
    },
    {
      "cell_type": "code",
      "source": [
        "import seaborn as sns\n",
        "import matplotlib.pyplot as plt\n",
        "from sklearn.metrics import confusion_matrix\n",
        "\n",
        "# Assuming you already have 'cm', 'test_labels', and 'y_pred' defined\n",
        "\n",
        "# Create a more visually appealing color map\n",
        "cmap = sns.color_palette(\"coolwarm\", as_cmap=True)\n",
        "\n",
        "# Create the confusion matrix heatmap with modifications\n",
        "plt.figure(figsize=(8, 6))\n",
        "sns.heatmap(\n",
        "    cm,\n",
        "    annot=True,  # Display the values in the cells\n",
        "    fmt=\"d\",     # Format of the cell values (integer)\n",
        "    cmap=cmap,   # Use the custom color palette\n",
        "    cbar=True,   # Display a color bar\n",
        "    annot_kws={\"size\": 12},  # Adjust the font size of annotations\n",
        "    linewidths=0.5,  # Add small linewidths between cells\n",
        "    square=True,   # Ensure the heatmap is square-shaped\n",
        "    vmax=100,      # Set the maximum color scale value\n",
        ")\n",
        "\n",
        "plt.xlabel(\"Predicted Label\")\n",
        "plt.ylabel(\"True Label\")\n",
        "plt.title(\"Confusion Matrix\")\n",
        "plt.show()\n"
      ],
      "metadata": {
        "id": "JFCsseJFmA3f",
        "outputId": "aa23e160-44af-47e2-b1dc-0f321a90b8d1",
        "colab": {
          "base_uri": "https://localhost:8080/",
          "height": 564
        }
      },
      "execution_count": null,
      "outputs": [
        {
          "output_type": "display_data",
          "data": {
            "text/plain": [
              "<Figure size 800x600 with 2 Axes>"
            ],
            "image/png": "[encoded data removed]"
          },
          "metadata": {}
        }
      ]
    },
    {
      "cell_type": "code",
      "source": [
        "import seaborn as sns\n",
        "import matplotlib.pyplot as plt\n",
        "import pandas as pd\n",
        "import numpy as np\n",
        "\n",
        "# Create a sample DataFrame with numerical values (replace this with your actual data)\n",
        "data = {\n",
        "    'Column1': np.random.rand(5),\n",
        "    'Column2': np.random.rand(5),\n",
        "    'Column3': np.random.rand(5)\n",
        "}\n",
        "\n",
        "df = pd.DataFrame(data)\n",
        "\n",
        "# Create a heatmap\n",
        "plt.figure(figsize=(6, 6))\n",
        "sns.heatmap(df, annot=True, fmt=\".1f\", cmap=\"coolwarm\", cbar=True)\n",
        "\n",
        "# Add labels and title\n",
        "plt.xlabel(\"X-axis Labels\")\n",
        "plt.ylabel(\"Y-axis Labels\")\n",
        "plt.title(\"Heatmap Example\")\n",
        "\n",
        "# Show the heatmap\n",
        "plt.show()\n"
      ],
      "metadata": {
        "id": "oG9y45qTgqgy",
        "colab": {
          "base_uri": "https://localhost:8080/",
          "height": 564
        },
        "outputId": "f7b32445-0e63-4d37-fa9c-a0c5c6e7d11e"
      },
      "execution_count": null,
      "outputs": [
        {
          "output_type": "display_data",
          "data": {
            "text/plain": [
              "<Figure size 600x600 with 2 Axes>"
            ],
            "image/png": "[encoded data removed]"
          },
          "metadata": {}
        }
      ]
    },
    {
      "cell_type": "code",
      "source": [
        "import seaborn as sns\n",
        "import matplotlib.pyplot as plt\n",
        "import pandas as pd\n",
        "import numpy as np\n",
        "\n",
        "# Create a sample DataFrame with numerical values (replace this with your actual data)\n",
        "data = {\n",
        "    'Category': ['A', 'B', 'C', 'D', 'E'],\n",
        "    'Value': np.random.rand(5)\n",
        "}\n",
        "\n",
        "df = pd.DataFrame(data)\n",
        "\n",
        "# Create a bar graph\n",
        "plt.figure(figsize=(8, 6))\n",
        "sns.barplot(data=df, x='Category', y='Value', palette=\"coolwarm\")\n",
        "\n",
        "# Add labels and title\n",
        "plt.xlabel(\"Categories\")\n",
        "plt.ylabel(\"Values\")\n",
        "plt.title(\"Bar Graph Example\")\n",
        "\n",
        "# Show the bar graph\n",
        "plt.show()\n"
      ],
      "metadata": {
        "colab": {
          "base_uri": "https://localhost:8080/",
          "height": 564
        },
        "id": "hiAyJ9-j5Nq5",
        "outputId": "950977b8-1b4a-4fca-fde8-637a8c665e63"
      },
      "execution_count": null,
      "outputs": [
        {
          "output_type": "display_data",
          "data": {
            "text/plain": [
              "<Figure size 800x600 with 1 Axes>"
            ],
            "image/png": "[encoded data removed]"
          },
          "metadata": {}
        }
      ]
    },
    {
      "cell_type": "code",
      "source": [
        "import seaborn as sns\n",
        "import matplotlib.pyplot as plt\n",
        "import pandas as pd\n",
        "import numpy as np\n",
        "\n",
        "# Create a sample DataFrame with numerical values (replace this with your actual data)\n",
        "data = {\n",
        "    'Value': np.random.randn(100)  # Generating random data for the histogram\n",
        "}\n",
        "\n",
        "df = pd.DataFrame(data)\n",
        "\n",
        "# Create a histogram\n",
        "plt.figure(figsize=(8, 6))\n",
        "sns.histplot(data=df, x='Value', bins=10, kde=True, color='purple')\n",
        "\n",
        "# Add labels and title\n",
        "plt.xlabel(\"Values\")\n",
        "plt.ylabel(\"Frequency\")\n",
        "plt.title(\"Histogram Example\")\n",
        "\n",
        "# Show the histogram\n",
        "plt.show()\n"
      ],
      "metadata": {
        "colab": {
          "base_uri": "https://localhost:8080/",
          "height": 564
        },
        "id": "_81FC8Wv5dLQ",
        "outputId": "dbd20b69-eec4-4f21-d92b-2c1f619b0606"
      },
      "execution_count": null,
      "outputs": [
        {
          "output_type": "display_data",
          "data": {
            "text/plain": [
              "<Figure size 800x600 with 1 Axes>"
            ],
            "image/png": "[encoded data removed]"
          },
          "metadata": {}
        }
      ]
    },
    {
      "cell_type": "code",
      "source": [
        "import seaborn as sns\n",
        "import matplotlib.pyplot as plt\n",
        "import pandas as pd\n",
        "import numpy as np\n",
        "\n",
        "# Create a sample DataFrame with numerical values (replace this with your actual data)\n",
        "data = {\n",
        "    'Value': np.random.randn(100)  # Generating random data for the boxplot\n",
        "}\n",
        "\n",
        "df = pd.DataFrame(data)\n",
        "\n",
        "# Create a boxplot\n",
        "plt.figure(figsize=(8, 6))\n",
        "sns.boxplot(data=df, y='Value', color='green')\n",
        "\n",
        "# Add labels and title\n",
        "plt.ylabel(\"Values\")\n",
        "plt.title(\"Boxplot Example\")\n",
        "\n",
        "# Show the boxplot\n",
        "plt.show()\n"
      ],
      "metadata": {
        "colab": {
          "base_uri": "https://localhost:8080/",
          "height": 526
        },
        "id": "Xe94ifQF5l7E",
        "outputId": "a3896e78-c910-4512-c29c-f0b37ce9af2e"
      },
      "execution_count": null,
      "outputs": [
        {
          "output_type": "display_data",
          "data": {
            "text/plain": [
              "<Figure size 800x600 with 1 Axes>"
            ],
            "image/png": "[encoded data removed]"
          },
          "metadata": {}
        }
      ]
    },
    {
      "cell_type": "code",
      "source": [
        "# Save the model\n",
        "model.save('scam_detection_model.h5')\n",
        "\n",
        "# Save the tokenizer for future use\n",
        "tokenizer_json = tokenizer.to_json()\n",
        "with open('tokenizer.json', 'w', encoding='utf-8') as f:\n",
        "    f.write(tokenizer_json)\n",
        "\n",
        "# Save the evaluation metrics\n",
        "evaluation_metrics = {\n",
        "    'accuracy': accuracy,\n",
        "    'precision': precision,\n",
        "    'recall': recall,\n",
        "    'f1': f1\n",
        "}\n",
        "pd.DataFrame(evaluation_metrics, index=[0]).to_csv('evaluation_metrics.csv', index=False)\n",
        "\n"
      ],
      "metadata": {
        "id": "AMzYzmNjmeOi",
        "outputId": "80fc2f5c-a228-4c11-b682-26c3aa02453f",
        "colab": {
          "base_uri": "https://localhost:8080/"
        }
      },
      "execution_count": null,
      "outputs": [
        {
          "output_type": "stream",
          "name": "stderr",
          "text": [
            "/usr/local/lib/python3.10/dist-packages/keras/src/engine/training.py:3000: UserWarning: You are saving your model as an HDF5 file via `model.save()`. This file format is considered legacy. We recommend using instead the native Keras format, e.g. `model.save('my_model.keras')`.\n",
            "  saving_api.save_model(\n"
          ]
        }
      ]
    }
  ]
}